{
 "cells": [
  {
   "cell_type": "markdown",
   "id": "b2a3c2b6-8788-49fc-9abd-8190b590caba",
   "metadata": {},
   "source": [
    "\n",
    "# DATA\n",
    "\n",
    "Tatoeba is a large database of sentences and translations. Its content is ever-growing and results from the voluntary contributions of thousands of members.\n",
    "\n",
    "Tatoeba provides a tool for you to see examples of how words are used in the context of a sentence. You specify words that interest you, and it returns sentences containing these words with their translations in the desired languages. The name Tatoeba (for example in Japanese) captures this concept.\n",
    "\n",
    "The project was founded by Trang Ho in 2006, hosted on Sourceforge under the codename of multilangd\n",
    "\n",
    "\n",
    "https://tatoeba.org/en/downloads\n",
    "\n",
    "\n",
    "Another dataset used is english-Irish pairs scraped from https://www.achtanna.ie/ via Irish legislation from the parallel corpus is available here for download in a number of TMX files.https://www.gaois.ie/en/corpora/parallel/data\n",
    "\n",
    "Gaois is a research group in Fiontar & Scoil na Gaeilge, DCU, that develops innovative resources to support the Irish language and its herit\n",
    "\n",
    "ref:\n",
    "\n",
    "Search phrases from dataset :\n",
    "\n",
    "https://www.gaois.ie/en/corpora/parallel?Query=Apple&Language=en&SearchMode=exact&PerPage=50\n",
    "\n",
    "https://github.com/kscanne/gaelspella\n",
    "https://cadhan.com/\n",
    "\n",
    "https://kevinscannell.com/files/ccgb.pdf\n",
    "\n",
    "\n",
    "- XCOMET:\n",
    "-  is Our models are exclusively trained on publicly\n",
    "available DA and MQM annotations, most of which\n",
    "have been collected by WMT over the recent years.ge.\n",
    "\n",
    "---\n",
    "\n",
    "### notes:\n",
    "\n",
    "- Gaois dataset uses a standerdised version of the Irish language, while Tatoeba *may* contain teh more uanced differences between Connact,Ulster,Leinster versions of Irish/Gaeliga. https://kevinscannell.com/files/ccgb.pdf\n",
    "- Tatoeba would more likley have erros and appears to be smaller sentences (assumption need to verify) than paragraphs of the legal texts (also a lot more forual langauge expected in legal texts)\n",
    "- Irish is also an offical EU language so there are lots of EU documents, but appears they need to be requested directly from EU https://www.bruegel.org/dataset/dataset-eu-legislation-digital-world as not made readily availbe by Gaois.ict."
   ]
  },
  {
   "cell_type": "code",
   "execution_count": 39,
   "id": "2ed74faf-4ad1-4b32-98de-054072199513",
   "metadata": {},
   "outputs": [],
   "source": [
    "import xml.etree.ElementTree as ET\n",
    "import pandas as pd\n",
    "import json\n",
    "import openai\n",
    "from openai import OpenAI\n",
    "import random\n",
    "\n",
    "\n",
    "# Set pandas display options to avoid truncation\n",
    "pd.set_option('display.max_colwidth', None)\n",
    "pd.set_option('display.max_rows', None)\n",
    "pd.set_option('display.max_columns', None)\n"
   ]
  },
  {
   "cell_type": "code",
   "execution_count": 56,
   "id": "a9466bf5-e1e3-46fa-b772-cacd75ef4aaa",
   "metadata": {},
   "outputs": [],
   "source": [
    "# Tatoeba dataset\n",
    "df_tatoeba = pd.read_csv('Sentence pairs in Irish-English - 2024-07-11.tsv', sep='\\t')"
   ]
  },
  {
   "cell_type": "code",
   "execution_count": null,
   "id": "0d60cbee-a6ca-435e-a0ab-17e87ca282ea",
   "metadata": {},
   "outputs": [],
   "source": [
    "df_tatoeba.head(3)"
   ]
  },
  {
   "cell_type": "code",
   "execution_count": 60,
   "id": "f961e178-c5f5-48df-8788-9af3bf42cd9a",
   "metadata": {},
   "outputs": [
    {
     "data": {
      "text/plain": [
       "2508"
      ]
     },
     "execution_count": 60,
     "metadata": {},
     "output_type": "execute_result"
    }
   ],
   "source": [
    "len(df_tatoeba)"
   ]
  },
  {
   "cell_type": "code",
   "execution_count": 32,
   "id": "e8a76d76-0d1e-40f4-b3ba-53c5be523ccd",
   "metadata": {},
   "outputs": [],
   "source": [
    "# for the Gaois datasets\n",
    "def parse_tmx(file_path):\n",
    "    tree = ET.parse(file_path)\n",
    "    root = tree.getroot()\n",
    "\n",
    "    data = []\n",
    "    for tu in root.findall('.//tu'):\n",
    "        tuid = tu.attrib.get('tuid')\n",
    "        collection = None\n",
    "        source = None\n",
    "        eng_lang = None\n",
    "        ga_lang = None\n",
    "        \n",
    "        for prop in tu.findall('prop'):\n",
    "            if prop.attrib.get('type') == 'collection':\n",
    "                collection = prop.text\n",
    "            elif prop.attrib.get('type') == 'source':\n",
    "                source = prop.text\n",
    "        \n",
    "        for tuv in tu.findall('tuv'):\n",
    "            lang = tuv.attrib.get('{http://www.w3.org/XML/1998/namespace}lang')\n",
    "            seg = tuv.find('seg').text\n",
    "            seg = seg.replace('\\n', ' ').replace('\\r', ' ') if seg else seg\n",
    "            if lang == 'en':\n",
    "                eng_lang = seg\n",
    "            elif lang == 'ga':\n",
    "                ga_lang = seg\n",
    "        \n",
    "        data.append([tuid, collection, source, eng_lang, ga_lang])\n",
    "\n",
    "    df = pd.DataFrame(data, columns=['tuid', 'prop_type_collection', 'prop_type_source', 'eng_lang', 'ga_lang'])\n",
    "    return df\n"
   ]
  },
  {
   "cell_type": "code",
   "execution_count": 42,
   "id": "bc81ba62-b33d-4a02-8748-bc8b0dacb4c5",
   "metadata": {},
   "outputs": [],
   "source": [
    "# Gaois datasets\n",
    "df = parse_tmx('18.10.25-gaois.ie-crp-tmx-irish-legislation-constitution.tmx')\n",
    "df_2 = parse_tmx('18.10.25-gaois.ie-crp-tmx-irish-legislation-primary-1922-1949.tmx')\n",
    "df_3 = parse_tmx('18.10.25-gaois.ie-crp-tmx-irish-legislation-primary-1950-1979.tmx')\n",
    "df_4 = parse_tmx('18.10.25-gaois.ie-crp-tmx-irish-legislation-primary-1980-2014.tmx')\n",
    "df_5 = parse_tmx('18.10.25-gaois.ie-crp-tmx-irish-legislation-secondary-court-rules.tmx')\n",
    "df_6 = parse_tmx('18.10.25-gaois.ie-crp-tmx-irish-legislation-secondary.tmx')"
   ]
  },
  {
   "cell_type": "code",
   "execution_count": 40,
   "id": "62333192-1d00-4b54-ac8a-a8bb626aa2a2",
   "metadata": {},
   "outputs": [
    {
     "data": {
      "text/html": [
       "<div>\n",
       "<style scoped>\n",
       "    .dataframe tbody tr th:only-of-type {\n",
       "        vertical-align: middle;\n",
       "    }\n",
       "\n",
       "    .dataframe tbody tr th {\n",
       "        vertical-align: top;\n",
       "    }\n",
       "\n",
       "    .dataframe thead th {\n",
       "        text-align: right;\n",
       "    }\n",
       "</style>\n",
       "<table border=\"1\" class=\"dataframe\">\n",
       "  <thead>\n",
       "    <tr style=\"text-align: right;\">\n",
       "      <th></th>\n",
       "      <th>tuid</th>\n",
       "      <th>prop_type_collection</th>\n",
       "      <th>prop_type_source</th>\n",
       "      <th>eng_lang</th>\n",
       "      <th>ga_lang</th>\n",
       "    </tr>\n",
       "  </thead>\n",
       "  <tbody>\n",
       "    <tr>\n",
       "      <th>0</th>\n",
       "      <td>566142</td>\n",
       "      <td>Bunreacht na hÉireann, 1937|Constitution of Ireland 1937</td>\n",
       "      <td>Bunreacht na hÉireann 1937</td>\n",
       "      <td>CONSTITUTION OF IRELAND 1937 Enacted by the People 1st July, In operation as from 29th December, 1937 This text of the Constitution is a copy of the text enrolled on 27 May, 1999 pursuant to Article 25.5.2°</td>\n",
       "      <td>BUNREACHT NA hÉIREANN CONSTITUTION OF IRELAND D’achtaigh an Pobal an 1 Iúil, 1937 I ngníomh ón 29 Nollaig, 1937, An téacs seo den Bhunreacht is cóip é den téacs a cuireadh isteach ina iris an 27 Bealtaine,1999, de dhroim Airteagal 25.5.2°</td>\n",
       "    </tr>\n",
       "    <tr>\n",
       "      <th>1</th>\n",
       "      <td>566143</td>\n",
       "      <td>Bunreacht na hÉireann, 1937|Constitution of Ireland 1937</td>\n",
       "      <td>Bunreacht na hÉireann 1937</td>\n",
       "      <td>except that : the Transitory Provisions (Articles 5163) are omitted as required by their terms;</td>\n",
       "      <td>ach amháin maidir leis na nithe seo a leanas : tá na Forálacha Sealadacha (Airteagail 5163) fágtha ar lár mar a cheanglaítear le téarmaí na nAirteagal sin;</td>\n",
       "    </tr>\n",
       "  </tbody>\n",
       "</table>\n",
       "</div>"
      ],
      "text/plain": [
       "     tuid                                      prop_type_collection  \\\n",
       "0  566142  Bunreacht na hÉireann, 1937|Constitution of Ireland 1937   \n",
       "1  566143  Bunreacht na hÉireann, 1937|Constitution of Ireland 1937   \n",
       "\n",
       "             prop_type_source  \\\n",
       "0  Bunreacht na hÉireann 1937   \n",
       "1  Bunreacht na hÉireann 1937   \n",
       "\n",
       "                                                                                                                                                                                                           eng_lang  \\\n",
       "0   CONSTITUTION OF IRELAND 1937 Enacted by the People 1st July, In operation as from 29th December, 1937 This text of the Constitution is a copy of the text enrolled on 27 May, 1999 pursuant to Article 25.5.2°    \n",
       "1                                                                                                                  except that : the Transitory Provisions (Articles 5163) are omitted as required by their terms;    \n",
       "\n",
       "                                                                                                                                                                                                                                            ga_lang  \n",
       "0   BUNREACHT NA hÉIREANN CONSTITUTION OF IRELAND D’achtaigh an Pobal an 1 Iúil, 1937 I ngníomh ón 29 Nollaig, 1937, An téacs seo den Bhunreacht is cóip é den téacs a cuireadh isteach ina iris an 27 Bealtaine,1999, de dhroim Airteagal 25.5.2°   \n",
       "1                                                                                      ach amháin maidir leis na nithe seo a leanas : tá na Forálacha Sealadacha (Airteagail 5163) fágtha ar lár mar a cheanglaítear le téarmaí na nAirteagal sin;   "
      ]
     },
     "execution_count": 40,
     "metadata": {},
     "output_type": "execute_result"
    }
   ],
   "source": [
    "df.head(2)"
   ]
  },
  {
   "cell_type": "code",
   "execution_count": 54,
   "id": "2f0a572a-1c04-4c27-9cfa-3cef91084a51",
   "metadata": {},
   "outputs": [
    {
     "name": "stdout",
     "output_type": "stream",
     "text": [
      "df = 466, df_2 = 272145, df_3 = 325040, df_4 = 315252, df_5 = 26661, df_6 = 44521\n"
     ]
    }
   ],
   "source": [
    "print(f'df = {len(df)}, df_2 = {len(df_2)}, df_3 = {len(df_3)}, df_4 = {len(df_4)}, df_5 = {len(df_5)}, df_6 = {len(df_6)}')\n"
   ]
  },
  {
   "cell_type": "code",
   "execution_count": 63,
   "id": "7c6648b6-a34e-4bd4-85bb-0deebb9e45d0",
   "metadata": {},
   "outputs": [],
   "source": [
    "df_gaois = pd.concat([df, df_2, df_3, df_4, df_5, df_6], ignore_index=True)"
   ]
  },
  {
   "cell_type": "code",
   "execution_count": 69,
   "id": "9d0e81d0-ffd6-4bd2-8151-6653555fdf3f",
   "metadata": {},
   "outputs": [
    {
     "data": {
      "text/plain": [
       "984085"
      ]
     },
     "execution_count": 69,
     "metadata": {},
     "output_type": "execute_result"
    }
   ],
   "source": [
    "len(df_gaois)"
   ]
  },
  {
   "cell_type": "code",
   "execution_count": 72,
   "id": "897187e4-28df-4822-92e2-7adbb9bfbb68",
   "metadata": {},
   "outputs": [],
   "source": [
    "# Export the dataframes to a CSV file\n",
    "df_gaois.to_csv('Gaois.csv', index=False)\n",
    "df_tatoeba.to_csv('Tatoeba.csv', index=False)"
   ]
  },
  {
   "cell_type": "markdown",
   "id": "92bb08f6-effc-45df-afd1-2e823d62b62a",
   "metadata": {},
   "source": [
    "## Formatting for LLM (to train translator)"
   ]
  },
  {
   "cell_type": "code",
   "execution_count": 11,
   "id": "0c1856fd-f1cf-462e-9d54-2ac7c97a384a",
   "metadata": {},
   "outputs": [],
   "source": [
    "#df_gaois = pd.read_csv('Gaois.csv')\n",
    "df_gaois = pd.read_csv('Gaois.csv',  low_memory=False)\n"
   ]
  },
  {
   "cell_type": "code",
   "execution_count": 12,
   "id": "242155f6-4f9e-4c95-8ab7-9da7e768b239",
   "metadata": {},
   "outputs": [
    {
     "data": {
      "text/plain": [
       "np.int64(176)"
      ]
     },
     "execution_count": 12,
     "metadata": {},
     "output_type": "execute_result"
    }
   ],
   "source": [
    "nan_count = df_gaois['tuid'].isna().sum()\n",
    "nan_count"
   ]
  },
  {
   "cell_type": "code",
   "execution_count": 13,
   "id": "48c9b342-c482-480c-88d3-2af05be34d0b",
   "metadata": {},
   "outputs": [],
   "source": [
    "df_gaois = df_gaois.dropna(subset=['tuid'])"
   ]
  },
  {
   "cell_type": "code",
   "execution_count": 14,
   "id": "f5fdf824-28ae-490e-ad27-5c8b1c843818",
   "metadata": {},
   "outputs": [
    {
     "data": {
      "text/plain": [
       "np.int64(0)"
      ]
     },
     "execution_count": 14,
     "metadata": {},
     "output_type": "execute_result"
    }
   ],
   "source": [
    "nan_count = df_gaois['tuid'].isna().sum()\n",
    "nan_count"
   ]
  },
  {
   "cell_type": "code",
   "execution_count": 19,
   "id": "b8810545-0d5e-421a-88a7-1e969ee5ae1f",
   "metadata": {},
   "outputs": [
    {
     "data": {
      "text/plain": [
       "983909"
      ]
     },
     "execution_count": 19,
     "metadata": {},
     "output_type": "execute_result"
    }
   ],
   "source": [
    "len(df_gaois)"
   ]
  },
  {
   "cell_type": "code",
   "execution_count": 21,
   "id": "0468b623-ebf4-477f-9adb-4840b3df0bcf",
   "metadata": {},
   "outputs": [
    {
     "name": "stdout",
     "output_type": "stream",
     "text": [
      "tuid                    object\n",
      "prop_type_collection    object\n",
      "prop_type_source        object\n",
      "eng_lang                object\n",
      "ga_lang                 object\n",
      "dtype: object\n"
     ]
    }
   ],
   "source": [
    "print(df_gaois.dtypes)\n"
   ]
  },
  {
   "cell_type": "code",
   "execution_count": 29,
   "id": "3189bc69-c56d-4757-9e63-f8a6795c6195",
   "metadata": {},
   "outputs": [
    {
     "name": "stdout",
     "output_type": "stream",
     "text": [
      "Index(['tuid', 'prop_type_collection', 'prop_type_source', 'eng_lang',\n",
      "       'ga_lang'],\n",
      "      dtype='object')\n"
     ]
    }
   ],
   "source": [
    "print(df_gaois.columns)"
   ]
  },
  {
   "cell_type": "code",
   "execution_count": 31,
   "id": "440c58d7-61dd-42a8-a14a-6afae5fa3afd",
   "metadata": {},
   "outputs": [
    {
     "data": {
      "text/html": [
       "<div>\n",
       "<style scoped>\n",
       "    .dataframe tbody tr th:only-of-type {\n",
       "        vertical-align: middle;\n",
       "    }\n",
       "\n",
       "    .dataframe tbody tr th {\n",
       "        vertical-align: top;\n",
       "    }\n",
       "\n",
       "    .dataframe thead th {\n",
       "        text-align: right;\n",
       "    }\n",
       "</style>\n",
       "<table border=\"1\" class=\"dataframe\">\n",
       "  <thead>\n",
       "    <tr style=\"text-align: right;\">\n",
       "      <th></th>\n",
       "      <th>tuid</th>\n",
       "      <th>prop_type_collection</th>\n",
       "      <th>prop_type_source</th>\n",
       "      <th>eng_lang</th>\n",
       "      <th>ga_lang</th>\n",
       "    </tr>\n",
       "  </thead>\n",
       "  <tbody>\n",
       "    <tr>\n",
       "      <th>0</th>\n",
       "      <td>566142</td>\n",
       "      <td>Bunreacht na hÉireann, 1937|Constitution of Ireland 1937</td>\n",
       "      <td>Bunreacht na hÉireann 1937</td>\n",
       "      <td>CONSTITUTION OF IRELAND 1937 Enacted by the People 1st July, In operation as from 29th December, 1937 This text of the Constitution is a copy of the text enrolled on 27 May, 1999 pursuant to Article 25.5.2°</td>\n",
       "      <td>BUNREACHT NA hÉIREANN CONSTITUTION OF IRELAND D’achtaigh an Pobal an 1 Iúil, 1937 I ngníomh ón 29 Nollaig, 1937, An téacs seo den Bhunreacht is cóip é den téacs a cuireadh isteach ina iris an 27 Bealtaine,1999, de dhroim Airteagal 25.5.2°</td>\n",
       "    </tr>\n",
       "    <tr>\n",
       "      <th>1</th>\n",
       "      <td>566143</td>\n",
       "      <td>Bunreacht na hÉireann, 1937|Constitution of Ireland 1937</td>\n",
       "      <td>Bunreacht na hÉireann 1937</td>\n",
       "      <td>except that : the Transitory Provisions (Articles 5163) are omitted as required by their terms;</td>\n",
       "      <td>ach amháin maidir leis na nithe seo a leanas : tá na Forálacha Sealadacha (Airteagail 5163) fágtha ar lár mar a cheanglaítear le téarmaí na nAirteagal sin;</td>\n",
       "    </tr>\n",
       "  </tbody>\n",
       "</table>\n",
       "</div>"
      ],
      "text/plain": [
       "     tuid                                      prop_type_collection  \\\n",
       "0  566142  Bunreacht na hÉireann, 1937|Constitution of Ireland 1937   \n",
       "1  566143  Bunreacht na hÉireann, 1937|Constitution of Ireland 1937   \n",
       "\n",
       "             prop_type_source  \\\n",
       "0  Bunreacht na hÉireann 1937   \n",
       "1  Bunreacht na hÉireann 1937   \n",
       "\n",
       "                                                                                                                                                                                                           eng_lang  \\\n",
       "0   CONSTITUTION OF IRELAND 1937 Enacted by the People 1st July, In operation as from 29th December, 1937 This text of the Constitution is a copy of the text enrolled on 27 May, 1999 pursuant to Article 25.5.2°    \n",
       "1                                                                                                                  except that : the Transitory Provisions (Articles 5163) are omitted as required by their terms;    \n",
       "\n",
       "                                                                                                                                                                                                                                            ga_lang  \n",
       "0   BUNREACHT NA hÉIREANN CONSTITUTION OF IRELAND D’achtaigh an Pobal an 1 Iúil, 1937 I ngníomh ón 29 Nollaig, 1937, An téacs seo den Bhunreacht is cóip é den téacs a cuireadh isteach ina iris an 27 Bealtaine,1999, de dhroim Airteagal 25.5.2°   \n",
       "1                                                                                      ach amháin maidir leis na nithe seo a leanas : tá na Forálacha Sealadacha (Airteagail 5163) fágtha ar lár mar a cheanglaítear le téarmaí na nAirteagal sin;   "
      ]
     },
     "execution_count": 31,
     "metadata": {},
     "output_type": "execute_result"
    }
   ],
   "source": [
    "df_gaois.head(2)\n"
   ]
  },
  {
   "cell_type": "code",
   "execution_count": 39,
   "id": "1c13b767-7628-43c7-b971-ec74b844614a",
   "metadata": {},
   "outputs": [
    {
     "name": "stdout",
     "output_type": "stream",
     "text": [
      "JSONL file 'gaois_900k.jsonl' has been successfully created.\n"
     ]
    }
   ],
   "source": [
    "# Rename columns 'eng_lang' and 'ga_lang' to 'en' and 'ga'\n",
    "df = df_gaois.rename(columns={'eng_lang': 'en', 'ga_lang': 'ga'})\n",
    "\n",
    "# Convert DataFrame rows to JSONL format\n",
    "jsonl_output = []\n",
    "for _, row in df.iterrows():\n",
    "    json_obj = {\n",
    "        'en': row['en'],\n",
    "        'ga': row['ga']\n",
    "    }\n",
    "    jsonl_output.append(json_obj)\n",
    "\n",
    "# Write JSONL output to a file\n",
    "output_file = 'gaois_900k.jsonl'\n",
    "with open(output_file, 'w', encoding='utf-8') as f:\n",
    "    for line in jsonl_output:\n",
    "        json.dump(line, f, ensure_ascii=False)\n",
    "        f.write('\\n')\n",
    "\n",
    "print(f\"JSONL file '{output_file}' has been successfully created.\")"
   ]
  },
  {
   "attachments": {},
   "cell_type": "markdown",
   "id": "91c30381-0ca8-4f51-b38d-984b4697b4cc",
   "metadata": {},
   "source": [
    "- Claude prefers xml while ..\n",
    "- GPT favors Markdown and JSO\n",
    "- Axolotl uses JSONLN"
   ]
  },
  {
   "cell_type": "markdown",
   "id": "c9bc01c8-638a-4677-8fbe-520925ecb9e6",
   "metadata": {},
   "source": [
    "### taking a subsample of 900k as too expensive to run entore dataset via GPT4o"
   ]
  },
  {
   "cell_type": "code",
   "execution_count": 45,
   "id": "3f2a70e4-556b-4ac9-ab8d-55e97fe69831",
   "metadata": {},
   "outputs": [
    {
     "name": "stdout",
     "output_type": "stream",
     "text": [
      "JSONL file 'gaois_cleaned.jsonl' has been successfully created.\n",
      "Included entries: 628942\n",
      "Excluded entries: 354967\n",
      "Random sample of 2000 entries saved to 'gaois_cleaned_2k.jsonl'\n",
      "All lines in the sample are valid JSON objects.\n"
     ]
    }
   ],
   "source": [
    "import pandas as pd\n",
    "import json\n",
    "import random\n",
    "\n",
    "# Load the DataFrame (assuming df_gaois is already loaded)\n",
    "# If not, uncomment the next line and specify the correct path\n",
    "# df_gaois = pd.read_csv('your_file.csv')\n",
    "\n",
    "# Rename columns 'eng_lang' and 'ga_lang' to 'en' and 'ga'\n",
    "df = df_gaois.rename(columns={'eng_lang': 'en', 'ga_lang': 'ga'})\n",
    "\n",
    "# Function to clean and validate text\n",
    "def clean_text(text):\n",
    "    if pd.isna(text):\n",
    "        return ''\n",
    "    cleaned_text = str(text).strip()\n",
    "    # Check if the text is just a number followed by a period\n",
    "    if cleaned_text.rstrip('.').isdigit():\n",
    "        return ''\n",
    "    return cleaned_text\n",
    "\n",
    "# Function to check if text contains [GA] or [EN]\n",
    "def contains_tags(text):\n",
    "    return '[GA]' in text or '[EN]' in text\n",
    "\n",
    "# Convert DataFrame rows to JSONL format, excluding entries with [GA] or [EN] and numbers with a full stop\n",
    "output_file = 'gaois_cleaned.jsonl'\n",
    "excluded_count = 0\n",
    "included_count = 0\n",
    "\n",
    "with open(output_file, 'w', encoding='utf-8') as f:\n",
    "    for _, row in df.iterrows():\n",
    "        en_text = clean_text(row['en'])\n",
    "        ga_text = clean_text(row['ga'])\n",
    "        \n",
    "        if contains_tags(en_text) or contains_tags(ga_text):\n",
    "            excluded_count += 1\n",
    "            continue\n",
    "        \n",
    "        # Skip entries that are just numbers followed by a period\n",
    "        if en_text == '' and ga_text == '':\n",
    "            excluded_count += 1\n",
    "            continue\n",
    "        \n",
    "        json_obj = {\n",
    "            'en': en_text,\n",
    "            'ga': ga_text\n",
    "        }\n",
    "        json.dump(json_obj, f, ensure_ascii=False)\n",
    "        f.write('\\n')\n",
    "        included_count += 1\n",
    "\n",
    "print(f\"JSONL file '{output_file}' has been successfully created.\")\n",
    "print(f\"Included entries: {included_count}\")\n",
    "print(f\"Excluded entries: {excluded_count}\")\n",
    "\n",
    "# Now, let's take a random sample of 2,000 entries\n",
    "sample_size = 2000\n",
    "output_sample_file = 'gaois_cleaned_2k.jsonl'\n",
    "\n",
    "# Read all lines from the cleaned file\n",
    "with open(output_file, 'r', encoding='utf-8') as f:\n",
    "    all_lines = f.readlines()\n",
    "\n",
    "# Ensure we don't try to sample more lines than available\n",
    "sample_size = min(sample_size, len(all_lines))\n",
    "\n",
    "# Take a random sample\n",
    "random.seed(42)  # for reproducibility\n",
    "sampled_lines = random.sample(all_lines, sample_size)\n",
    "\n",
    "# Write the sampled lines to a new file\n",
    "with open(output_sample_file, 'w', encoding='utf-8') as f:\n",
    "    f.writelines(sampled_lines)\n",
    "\n",
    "print(f\"Random sample of {sample_size} entries saved to '{output_sample_file}'\")\n",
    "\n",
    "# Optionally, verify the output\n",
    "with open(output_sample_file, 'r', encoding='utf-8') as f:\n",
    "    for i, line in enumerate(f):\n",
    "        try:\n",
    "            json.loads(line)\n",
    "        except json.JSONDecodeError:\n",
    "            print(f\"Error in line {i+1}: {line}\")\n",
    "            break\n",
    "    else:\n",
    "        print(\"All lines in the sample are valid JSON objects.\")\n"
   ]
  },
  {
   "cell_type": "markdown",
   "id": "d468cf49-2651-427c-95b4-b9ca501e40aa",
   "metadata": {},
   "source": [
    "# Rename columns 'eng_lang' and 'ga_lang' to 'en' and 'ga'\n",
    "df = df_gaois.rename(columns={'eng_lang': 'en', 'ga_lang': 'ga'})\n",
    "\n",
    "# Function to clean and validate text\n",
    "def clean_text(text):\n",
    "    if pd.isna(text):\n",
    "        return ''\n",
    "    return str(text).strip()\n",
    "\n",
    "# Function to check if text contains [GA] or [EN]\n",
    "def contains_tags(text):\n",
    "    return '[GA]' in text or '[EN]' in text\n",
    "\n",
    "# Convert DataFrame rows to JSONL format, excluding entries with [GA] or [EN]\n",
    "output_file = 'gaois_cleaned.jsonl'\n",
    "excluded_count = 0\n",
    "included_count = 0\n",
    "\n",
    "with open(output_file, 'w', encoding='utf-8') as f:\n",
    "    for _, row in df.iterrows():\n",
    "        en_text = clean_text(row['en'])\n",
    "        ga_text = clean_text(row['ga'])\n",
    "        \n",
    "        if contains_tags(en_text) or contains_tags(ga_text):\n",
    "            excluded_count += 1\n",
    "            continue\n",
    "        \n",
    "        json_obj = {\n",
    "            'en': en_text,\n",
    "            'ga': ga_text\n",
    "        }\n",
    "        json.dump(json_obj, f, ensure_ascii=False)\n",
    "        f.write('\\n')\n",
    "        included_count += 1\n",
    "\n",
    "print(f\"JSONL file '{output_file}' has been successfully created.\")\n",
    "print(f\"Included entries: {included_count}\")\n",
    "print(f\"Excluded entries: {excluded_count}\")\n",
    "\n",
    "# Optionally, verify the output\n",
    "with open(output_file, 'r', encoding='utf-8') as f:\n",
    "    for i, line in enumerate(f):\n",
    "        try:\n",
    "            json.loads(line)\n",
    "        except json.JSONDecodeError:\n",
    "            print(f\"Error in line {i+1}: {line}\")\n",
    "            break\n",
    "    else:\n",
    "        print(\"All lines are valid JSON objects.\")"
   ]
  },
  {
   "cell_type": "code",
   "execution_count": null,
   "id": "28127be8-b360-49db-9bc6-75deb383c7f4",
   "metadata": {},
   "outputs": [],
   "source": []
  },
  {
   "attachments": {
    "e02ced7a-37f2-4f4d-8c8a-5bf3e435ec06.png": {
     "image/png": "[encoded data removed]"
    }
   },
   "cell_type": "markdown",
   "id": "3ebff94e-bf8f-4adb-a20d-af3496875932",
   "metadata": {},
   "source": [
    "## GPT-4 Prompt\n",
    "````\n",
    "System:\n",
    "You areahelpful translator and only output theresult. User:\n",
    "### Translatethis from <sourcelanguage> to <target language>, <source language>:\n",
    "<sourcesentence>\n",
    "### <target language>:\n",
    "------------------------------------------------------------------------------------------------------------\n",
    "Translatethis from <sourcelanguage> to <target language>:\n",
    "<sourcelanguage>: <sourcesentence>\n",
    "<target lan\n",
    "````\n",
    "\n",
    "![image.png](attachment:e02ced7a-37f2-4f4d-8c8a-5bf3e435ec06.png)guage>:\n"
   ]
  },
  {
   "cell_type": "code",
   "execution_count": null,
   "id": "b26c9612-c4c0-4a3a-bd8e-e4b5bb89b12e",
   "metadata": {},
   "outputs": [],
   "source": [
    "# Test subset of larger dataset"
   ]
  },
  {
   "cell_type": "code",
   "execution_count": 49,
   "id": "820f295b-c0a5-4213-a190-a8569a70fe81",
   "metadata": {},
   "outputs": [],
   "source": [
    "\n",
    "# Set your OpenAI API key here\n",
    "api_key = \"sk-proj-xxxxxxxxxxxxxxxxxx\"\n",
    "\n",
    "# Initialize the OpenAI client with the API key\n",
    "client = openai.OpenAI(api_key=api_key)\n",
    "\n",
    "MODEL=\"gpt-4o\"\n",
    "input_file = 'gaois_cleaned_2k.jsonl'\n",
    "output_file = 'gaois_cleaned_2k_gpt4_translated.jsonl'"
   ]
  },
  {
   "cell_type": "code",
   "execution_count": 51,
   "id": "93d6c9a5-032e-4f5e-bbd7-f0da56aad4ba",
   "metadata": {},
   "outputs": [
    {
     "name": "stdout",
     "output_type": "stream",
     "text": [
      "JSONL file 'gaois_cleaned_2k_gpt4_translated.jsonl' has been successfully created with translations.\n"
     ]
    }
   ],
   "source": [
    "def translate_text(source_language, target_language, source_sentence):\n",
    "    prompt = f\"\"\"\n",
    "System:\n",
    "You are a helpful translator and only output the result.\n",
    "\n",
    "User:\n",
    "### Translate this from {source_language} to {target_language}, {source_language}:\n",
    "{source_sentence}\n",
    "### {target_language}:\n",
    "\"\"\"\n",
    "    \n",
    "    response = client.chat.completions.create(\n",
    "        model=MODEL,\n",
    "        messages=[\n",
    "            {\"role\": \"system\", \"content\": \"You are a helpful translator.\"},\n",
    "            {\"role\": \"user\", \"content\": prompt}\n",
    "        ],\n",
    "        max_tokens=100,\n",
    "        temperature=0.5\n",
    "    )\n",
    "    return response.choices[0].message.content.strip()\n",
    "\n",
    "# Process the JSONL file\n",
    "with open(input_file, 'r', encoding='utf-8') as infile, open(output_file, 'w', encoding='utf-8') as outfile:\n",
    "    for line in infile:\n",
    "        entry = json.loads(line)\n",
    "        \n",
    "        # English to Irish translation\n",
    "        if 'en' in entry:\n",
    "            irish_translation = translate_text(\"English\", \"Irish\", entry['en'])\n",
    "            entry['gpt_4_ga'] = irish_translation\n",
    "        \n",
    "        # Irish to English translation\n",
    "        if 'ga' in entry:\n",
    "            english_translation = translate_text(\"Irish\", \"English\", entry['ga'])\n",
    "            entry['gpt_4_en'] = english_translation\n",
    "        \n",
    "        # Write the updated entry to the output file\n",
    "        json.dump(entry, outfile, ensure_ascii=False)\n",
    "        outfile.write('\\n')\n",
    "\n",
    "print(f\"JSONL file '{output_file}' has been successfully created with translations.\")"
   ]
  },
  {
   "attachments": {
    "0f4d9b28-e274-4290-acf6-1a151497af17.png": {
     "image/png": "[encoded data removed]"
    }
   },
   "cell_type": "markdown",
   "id": "7fc80886-e81a-462e-9237-bd9938073293",
   "metadata": {},
   "source": [
    "### error in dataset\n",
    "\n",
    "![image.png](attachment:0f4d9b28-e274-4290-acf6-1a151497af17.png)\n",
    "\n",
    "- 212 index of 2k sub sample\n",
    "- {\"en\": \" Fees. \", \"ga\": \" 1879, c.58. \"}\n",
    "- which is in index 435964\n",
    "- need to check if error is inherited from csv or if jsonl creation created the msimatch\n"
   ]
  },
  {
   "cell_type": "markdown",
   "id": "aea6c08c-c675-4284-85dd-8fb8005de740",
   "metadata": {},
   "source": [
    "yes so we can see in the csv generation: \n",
    "\n",
    "- 1191898,Achtanna an Oireachtais|Acts of the Oireachtas,1964-PUB-012, Fees. ,\" 1879, c.58. \"\n",
    "- should not that there is an act which disusses fees so must have been misaligned \n"
   ]
  },
  {
   "attachments": {
    "7eab7f19-61fc-4ee4-8d27-225b6bcedeae.png": {
     "image/png": "[encoded data removed]"
    }
   },
   "cell_type": "markdown",
   "id": "b8e0e561-d3cd-4333-a124-6c419a5ad551",
   "metadata": {},
   "source": [
    "- next checking if error arises from converting dataset after import, but can also try the tool search website that it originated from\n",
    "\n",
    "- ![image.png](attachment:7eab7f19-61fc-4ee4-8d27-225b6bcedeae.png)\n",
    " \n",
    "OK so it does, used https://www.gaois.ie/en/corpora/parallel?Query=1879%2C+c.58.&Language=ga&SearchMode=exact&PerPage=50&Page=1 and found one example of this misalignment"
   ]
  },
  {
   "cell_type": "markdown",
   "id": "37683032-93c8-4420-b4af-2ce1f4a79093",
   "metadata": {},
   "source": [
    "Another error in dataset includes eng traslations in irish section (index 225)\n",
    "\n",
    "{\"en\": \"The Roads Act, 1920\", \"ga\": \"An Roads Act, 1920.\", \"gpt_4_ga\": \"An tAcht Bóithre, 1920\", \"gpt_4_en\": \"The Roads Act, 1920.\"}\n"
   ]
  },
  {
   "cell_type": "markdown",
   "id": "fc6d7506-3614-43d7-94af-2b07761d717d",
   "metadata": {},
   "source": [
    "There also seems to be a fair amount of 'dsagreement'\n",
    "\n",
    "{\"en\": \"(2) Where—\", \"ga\": \"(2) Más rud é—\", \"gpt_4_ga\": \"(2) I gcás—\", \"gpt_4_en\": \"(2) If it is the case—\"}\n",
    "\n",
    "https://inirish.bitesize.irish/how-to-say/9206-where claims its actually neither, cá háit = where\n",
    "But sentence context may affect this? will need to consult irish speaker.\n",
    "\n",
    "Google trabslate states where = i gcás ina , so closer to chatgpt\n",
    "\n",
    "\n"
   ]
  },
  {
   "cell_type": "markdown",
   "id": "94bcc71c-21e8-4a42-9fdf-6fe69dccca29",
   "metadata": {},
   "source": [
    "- There appears to be more errors in shorter sentences/chunks compared to fully formed sentences/paragraphs"
   ]
  },
  {
   "cell_type": "code",
   "execution_count": null,
   "id": "371c93ba-6468-43c9-8065-10f991e25d60",
   "metadata": {},
   "outputs": [],
   "source": []
  },
  {
   "cell_type": "code",
   "execution_count": null,
   "id": "0a274d06-7d01-4b99-abcb-c68bf7539c06",
   "metadata": {},
   "outputs": [],
   "source": []
  },
  {
   "cell_type": "code",
   "execution_count": null,
   "id": "8e5efe1b-a972-4dbc-bcc3-3a7d71556278",
   "metadata": {},
   "outputs": [],
   "source": []
  },
  {
   "cell_type": "code",
   "execution_count": null,
   "id": "b94c1b4a-72ff-4d84-beb6-7eee04c08bf9",
   "metadata": {},
   "outputs": [],
   "source": []
  },
  {
   "cell_type": "code",
   "execution_count": null,
   "id": "46bf9c51-fed0-4316-88ce-23c3d487fb62",
   "metadata": {},
   "outputs": [],
   "source": []
  },
  {
   "cell_type": "code",
   "execution_count": null,
   "id": "b5dea1fd-6d8c-488c-b12d-8c9ac7c0e4ba",
   "metadata": {},
   "outputs": [],
   "source": []
  },
  {
   "cell_type": "code",
   "execution_count": null,
   "id": "0adbdcb2-eeb9-446d-817c-80e57b412ee5",
   "metadata": {},
   "outputs": [],
   "source": []
  },
  {
   "cell_type": "code",
   "execution_count": null,
   "id": "9384d3fe-d57f-452c-b1a8-a99e16228755",
   "metadata": {},
   "outputs": [],
   "source": []
  },
  {
   "cell_type": "code",
   "execution_count": null,
   "id": "160a235d-ce96-4546-8f86-4ce7d2d20534",
   "metadata": {},
   "outputs": [],
   "source": []
  }
 ],
 "metadata": {
  "kernelspec": {
   "display_name": "my_openai",
   "language": "python",
   "name": "python3"
  },
  "language_info": {
   "codemirror_mode": {
    "name": "ipython",
    "version": 3
   },
   "file_extension": ".py",
   "mimetype": "text/x-python",
   "name": "python",
   "nbconvert_exporter": "python",
   "pygments_lexer": "ipython3",
   "version": "3.12.0"
  }
 },
 "nbformat": 4,
 "nbformat_minor": 5
}
